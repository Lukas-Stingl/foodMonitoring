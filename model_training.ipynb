{
 "cells": [
  {
   "cell_type": "code",
   "execution_count": 7,
   "metadata": {},
   "outputs": [
    {
     "data": {
      "text/plain": [
       "'\\n...\\n'"
      ]
     },
     "execution_count": 7,
     "metadata": {},
     "output_type": "execute_result"
    }
   ],
   "source": [
    "# import statements\n",
    "import pandas as pd\n",
    "from sklearn.ensemble import RandomForestClassifier\n",
    "\n",
    "from sklearn.model_selection import train_test_split\n",
    "\n",
    "'''\n",
    "...\n",
    "'''\n"
   ]
  },
  {
   "cell_type": "code",
   "execution_count": 4,
   "metadata": {},
   "outputs": [],
   "source": [
    "# set path variables for data import\n",
    "path_org_data = './data/org_sets/'\n",
    "path_res_data = './data/resampled/'"
   ]
  },
  {
   "cell_type": "code",
   "execution_count": 14,
   "metadata": {},
   "outputs": [
    {
     "name": "stdout",
     "output_type": "stream",
     "text": [
      "Feature Set 1 Shape: (2240, 129)\n",
      "Feature Set 2 Shape: (2240, 153)\n"
     ]
    }
   ],
   "source": [
    "# read in feature_set1 & 2 of resampled data\n",
    "res_f1 = pd.read_pickle(filepath_or_buffer = path_res_data + 'featureSet1.pkl')\n",
    "res_f2 = pd.read_pickle(filepath_or_buffer = path_res_data + 'featureSet2.pkl')\n",
    "\n",
    "print('Feature Set 1 Shape: ' + str(res_f1.shape))\n",
    "print('Feature Set 2 Shape: ' + str(res_f2.shape))"
   ]
  },
  {
   "cell_type": "code",
   "execution_count": 12,
   "metadata": {},
   "outputs": [
    {
     "name": "stdout",
     "output_type": "stream",
     "text": [
      "0.831081081081081\n"
     ]
    }
   ],
   "source": [
    "# trail for fS2 resampled\n",
    "\n",
    "X = res_f2.iloc[:, :-1]\n",
    "y = res_f2.iloc[:, -1]\n",
    "\n",
    "X_train, X_test, y_train, y_test = train_test_split(X, y, test_size=0.33, random_state=42)\n",
    "\n",
    "model = RandomForestClassifier()\n",
    "\n",
    "model.fit(X_train, y_train)\n",
    "\n",
    "print(model.score(X_test, y_test))"
   ]
  },
  {
   "cell_type": "code",
   "execution_count": null,
   "metadata": {},
   "outputs": [],
   "source": [
    "# f1 0.8432432432432433\n",
    "# f2 0.831081081081081 ??? "
   ]
  }
 ],
 "metadata": {
  "interpreter": {
   "hash": "d43aaff7f63f8118a77db5d118aa75d2a0e830d35dd145dbb9c3b4b71a3a0ec0"
  },
  "kernelspec": {
   "display_name": "Python 3.9.5 64-bit ('venv': venv)",
   "language": "python",
   "name": "python3"
  },
  "language_info": {
   "codemirror_mode": {
    "name": "ipython",
    "version": 3
   },
   "file_extension": ".py",
   "mimetype": "text/x-python",
   "name": "python",
   "nbconvert_exporter": "python",
   "pygments_lexer": "ipython3",
   "version": "3.9.5"
  },
  "orig_nbformat": 4
 },
 "nbformat": 4,
 "nbformat_minor": 2
}
