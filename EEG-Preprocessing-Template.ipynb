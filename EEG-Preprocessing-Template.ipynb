{
 "cells": [
  {
   "cell_type": "markdown",
   "metadata": {},
   "source": [
    "# EEG Pre-Processing Template"
   ]
  },
  {
   "cell_type": "code",
   "execution_count": 1,
   "metadata": {},
   "outputs": [],
   "source": [
    "# Load dependencies\n",
    "import pandas as pd\n",
    "import numpy as np\n",
    "import mne\n",
    "import pyprep"
   ]
  },
  {
   "cell_type": "markdown",
   "metadata": {},
   "source": [
    "## Load and prepare the recording file"
   ]
  },
  {
   "cell_type": "code",
   "execution_count": null,
   "metadata": {},
   "outputs": [],
   "source": [
    "# Load data from .txt file\n",
    "# TODO\n",
    "\n",
    "# Convert data into pandas DataFrame with electrode channels as columns\n",
    "# TODO\n",
    "\n",
    "# Set correct channel names\n",
    "# You could use this if there are no other columns (the order of the elec names is correct): \n",
    "# eeg_df.columns = ['time', 'L1', 'L2', 'L3', 'L4', 'L7', 'L8', 'L9', 'L10', 'R1', 'R2', 'R3', 'R5', 'R7', 'R8', 'R9', 'R10']\n",
    "# TODO"
   ]
  },
  {
   "cell_type": "markdown",
   "metadata": {},
   "source": [
    "## Preprocess (clean) the signals"
   ]
  },
  {
   "cell_type": "code",
   "execution_count": null,
   "metadata": {},
   "outputs": [],
   "source": [
    "# %matplotlib qt # Uncomment this if you'd like to have interactive plots\n",
    "\n",
    "# Load EEG data into MNE Python for preprocessing\n",
    "# Create MNE Python object\n",
    "fs = 125 # Sampling frequency of the OpenBCI recording\n",
    "ch_names = eeg_df.drop('time', axis=1).columns.values.tolist()\n",
    "info = mne.create_info(ch_names, fs, ch_types='eeg')\n",
    "raw = mne.io.RawArray(np.array(eeg_df.drop('time', axis = 1)).transpose(), info)\n",
    "\n",
    "# High-Pass Filter & Plot for visual inspection\n",
    "# raw.copy().filter(l_freq = 0.2, h_freq = None).plot(scalings=dict(eeg=100))\n",
    "\n",
    "# Load custom montage (for cEEGrids) - these are the coordinates of the electrodes on the head\n",
    "ceegrid_montage = mne.channels.read_custom_montage('ceegrid_sph.txt')\n",
    "raw = raw.copy().set_montage(ceegrid_montage)\n",
    "\n",
    "# Filter the data\n",
    "raw = raw.notch_filter(freqs=(25, 50)) # Notch filter to remove power line noise\n",
    "raw = raw.filter(l_freq = 1, h_freq = 62.5) # 1 Hz Highpass (detrend) & 62.5 Hz Lowpass (remove high-frequency artefacts)\n",
    "\n",
    "# Detect (& interpolate) bad channels\n",
    "# You can play around with this a bit if you like - it could also perform poorly in your experiment (the facial muscle artefacts are what you are interested in and should not necessarily be removed...)\n",
    "raw.info['bads'] = []\n",
    "nc = pyprep.NoisyChannels(raw, do_detrend=True, random_state=42)\n",
    "nc.find_bad_by_SNR()\n",
    "nc.find_bad_by_deviation()\n",
    "nc.find_bad_by_hfnoise()\n",
    "nc.find_bad_by_nan_flat()\n",
    "nc.find_bad_by_ransac()\n",
    "raw.info['bads'] = nc.get_bads()\n",
    "# Interpolation can be done using mne python's interpolate_bads()\n",
    "raw = raw.interpolate_bads()"
   ]
  },
  {
   "cell_type": "markdown",
   "metadata": {},
   "source": [
    "## Cut the data"
   ]
  },
  {
   "cell_type": "code",
   "execution_count": null,
   "metadata": {},
   "outputs": [],
   "source": [
    "# Here you need to figure out now, how to extract the data per experiment condition/phase, \n",
    "# that you would like to extract features for; \n",
    "# Your goal is to get timestamps for when a part of the experiment started and when it ended.\n",
    "\n",
    "# Some information that you might need here\n",
    "# - You can use raw.get_data() to get to the cleaned signals and raw.times to get the now relative timestamps\n",
    "# - You can also combine raw.get_data() with your original timestamps that you have in the .txt file"
   ]
  },
  {
   "cell_type": "markdown",
   "metadata": {},
   "source": [
    "## Feature extraction"
   ]
  },
  {
   "cell_type": "code",
   "execution_count": null,
   "metadata": {},
   "outputs": [],
   "source": [
    "# Here you have to first decide how to process the data. There are two initial options:\n",
    "# - Extract features on moving windows (e.g. extract one feature per electrode \n",
    "#   for every 2s of the experiment phase or one per electrode for the entire experiment phase)\n",
    "\n",
    "\n",
    "# You can see which features we have extraced in our NeuroIS article...\n",
    "\n",
    "# Here is an example of how you could extract frequency band powers (requires a numpy array):\n",
    "epoch_duration_sec = 2\n",
    "psds, freqs = mne.time_frequency.psd_array_welch(array, fmin=1, fmax=62.5, n_fft=int(fs*epoch_duration_sec))\n",
    "psds = 10. * np.log10(psds) # db normalization\n",
    "\n",
    "psd_simple_welch_df = pd.DataFrame(psds.transpose(), columns=raw.ch_names)\n",
    "psd_simple_welch_df['Frequency'] = freqs\n",
    "\n",
    "def get_band_power(low_bound, high_bound):\n",
    "    # Find closest indices of band in frequency vector\n",
    "    idx_band = np.logical_and(freqs >= low_bound, freqs <= high_bound)\n",
    "    return psds[:, idx_band].mean(axis=1)\n",
    "\n",
    "theta = get_band_power(4, 7)\n",
    "alpha = get_band_power(8, 13)\n",
    "beta = get_band_power(14, 30)"
   ]
  },
  {
   "cell_type": "markdown",
   "metadata": {},
   "source": [
    "## Classifier Training"
   ]
  },
  {
   "cell_type": "code",
   "execution_count": null,
   "metadata": {},
   "outputs": [],
   "source": [
    "# Here your ML magic comes in..."
   ]
  }
 ],
 "metadata": {
  "kernelspec": {
   "display_name": "Python 3",
   "language": "python",
   "name": "python3"
  },
  "language_info": {
   "codemirror_mode": {
    "name": "ipython",
    "version": 3
   },
   "file_extension": ".py",
   "mimetype": "text/x-python",
   "name": "python",
   "nbconvert_exporter": "python",
   "pygments_lexer": "ipython3",
   "version": "3.7.8"
  }
 },
 "nbformat": 4,
 "nbformat_minor": 1
}
